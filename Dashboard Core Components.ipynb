{
 "cells": [
  {
   "cell_type": "code",
   "execution_count": 1,
   "metadata": {},
   "outputs": [],
   "source": [
    "import dash\n",
    "import dash_core_components as dcc\n",
    "import dash_html_components as html"
   ]
  },
  {
   "cell_type": "code",
   "execution_count": 2,
   "metadata": {},
   "outputs": [],
   "source": [
    "app = dash.Dash()"
   ]
  },
  {
   "cell_type": "code",
   "execution_count": 12,
   "metadata": {},
   "outputs": [],
   "source": [
    "app.layout = html.Div([\n",
    "    html.Label('Dropdown'),\n",
    "    dcc.Dropdown(options=[{'label':'New York City','value':'NYC'},#on the user side they will see New York City but in the back end we will see the value is NYC\n",
    "                          {'label':'San Francisco', 'value':'SF'}],\n",
    "                    value='SF'),#set a default value as 'SF' to this dropdown\n",
    "    html.Label('Slider'),\n",
    "    dcc.Slider(min=-10,max=10,step=0.5,value=0,marks={i:i for i in range(-10,10)}),\n",
    "    html.P(html.Label('Some Radio Items')),#set this radio as a paragraph to avoid overlap with slider above; basically insert a line break\n",
    "    dcc.RadioItems(options=[{'label':'New York City','value':'NYC'},\n",
    "                            {'label':'San Francisco','value':'SF'}],\n",
    "                      value='SF')\n",
    "])"
   ]
  },
  {
   "cell_type": "code",
   "execution_count": 13,
   "metadata": {},
   "outputs": [
    {
     "name": "stdout",
     "output_type": "stream",
     "text": [
      " * Serving Flask app \"__main__\" (lazy loading)\n",
      " * Environment: production\n",
      "   WARNING: This is a development server. Do not use it in a production deployment.\n",
      "   Use a production WSGI server instead.\n",
      " * Debug mode: off\n"
     ]
    },
    {
     "name": "stderr",
     "output_type": "stream",
     "text": [
      " * Running on http://127.0.0.1:8050/ (Press CTRL+C to quit)\n",
      "127.0.0.1 - - [22/Dec/2021 16:20:39] \"GET / HTTP/1.1\" 200 -\n",
      "127.0.0.1 - - [22/Dec/2021 16:20:39] \"GET /_dash-dependencies HTTP/1.1\" 200 -\n",
      "127.0.0.1 - - [22/Dec/2021 16:20:39] \"GET /_dash-layout HTTP/1.1\" 200 -\n"
     ]
    }
   ],
   "source": [
    "if __name__ == '__main__':\n",
    "    app.run_server()"
   ]
  },
  {
   "cell_type": "code",
   "execution_count": null,
   "metadata": {},
   "outputs": [],
   "source": []
  }
 ],
 "metadata": {
  "kernelspec": {
   "display_name": "Python 3",
   "language": "python",
   "name": "python3"
  },
  "language_info": {
   "codemirror_mode": {
    "name": "ipython",
    "version": 3
   },
   "file_extension": ".py",
   "mimetype": "text/x-python",
   "name": "python",
   "nbconvert_exporter": "python",
   "pygments_lexer": "ipython3",
   "version": "3.7.3"
  }
 },
 "nbformat": 4,
 "nbformat_minor": 2
}
