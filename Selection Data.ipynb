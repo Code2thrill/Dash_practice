{
 "cells": [
  {
   "cell_type": "code",
   "execution_count": 1,
   "metadata": {},
   "outputs": [],
   "source": [
    "import dash\n",
    "import dash_core_components as dcc\n",
    "import dash_html_components as html\n",
    "from dash.dependencies import Input, Output\n",
    "import plotly.graph_objs as go\n",
    "import numpy as np\n",
    "import pandas as pd"
   ]
  },
  {
   "cell_type": "code",
   "execution_count": 2,
   "metadata": {},
   "outputs": [],
   "source": [
    "app =dash.Dash()"
   ]
  },
  {
   "cell_type": "code",
   "execution_count": 3,
   "metadata": {},
   "outputs": [],
   "source": [
    "np.random.seed(10)"
   ]
  },
  {
   "cell_type": "code",
   "execution_count": 4,
   "metadata": {},
   "outputs": [],
   "source": [
    "x1 = np.linspace(0.1,5,50)\n",
    "x2 = np.linspace(5.1,10,50)\n",
    "y = np.random.randint(0,50,50)"
   ]
  },
  {
   "cell_type": "code",
   "execution_count": 5,
   "metadata": {},
   "outputs": [
    {
     "data": {
      "text/html": [
       "<div>\n",
       "<style scoped>\n",
       "    .dataframe tbody tr th:only-of-type {\n",
       "        vertical-align: middle;\n",
       "    }\n",
       "\n",
       "    .dataframe tbody tr th {\n",
       "        vertical-align: top;\n",
       "    }\n",
       "\n",
       "    .dataframe thead th {\n",
       "        text-align: right;\n",
       "    }\n",
       "</style>\n",
       "<table border=\"1\" class=\"dataframe\">\n",
       "  <thead>\n",
       "    <tr style=\"text-align: right;\">\n",
       "      <th></th>\n",
       "      <th>x</th>\n",
       "      <th>y</th>\n",
       "    </tr>\n",
       "  </thead>\n",
       "  <tbody>\n",
       "    <tr>\n",
       "      <th>0</th>\n",
       "      <td>0.1</td>\n",
       "      <td>9</td>\n",
       "    </tr>\n",
       "    <tr>\n",
       "      <th>1</th>\n",
       "      <td>0.2</td>\n",
       "      <td>36</td>\n",
       "    </tr>\n",
       "    <tr>\n",
       "      <th>2</th>\n",
       "      <td>0.3</td>\n",
       "      <td>15</td>\n",
       "    </tr>\n",
       "    <tr>\n",
       "      <th>3</th>\n",
       "      <td>0.4</td>\n",
       "      <td>0</td>\n",
       "    </tr>\n",
       "    <tr>\n",
       "      <th>4</th>\n",
       "      <td>0.5</td>\n",
       "      <td>49</td>\n",
       "    </tr>\n",
       "  </tbody>\n",
       "</table>\n",
       "</div>"
      ],
      "text/plain": [
       "     x   y\n",
       "0  0.1   9\n",
       "1  0.2  36\n",
       "2  0.3  15\n",
       "3  0.4   0\n",
       "4  0.5  49"
      ]
     },
     "execution_count": 5,
     "metadata": {},
     "output_type": "execute_result"
    }
   ],
   "source": [
    "#pass dictionary to create a dataframe()\n",
    "df1 = pd.DataFrame({'x':x1,'y':y})\n",
    "df2 = pd.DataFrame({'x':x1,'y':y})\n",
    "df3 = pd.DataFrame({'x':x2,'y':y})\n",
    "#combine these to a large dataframe\n",
    "df=pd.concat([df1,df2,df3])\n",
    "df.head()"
   ]
  },
  {
   "cell_type": "code",
   "execution_count": 6,
   "metadata": {},
   "outputs": [],
   "source": [
    "app.layout = html.Div([\n",
    "    html.Div([dcc.Graph(id='plot',\n",
    "                       figure={'data':[go.Scatter(\n",
    "                       x=df['x'],\n",
    "                       y=df['y'],\n",
    "                       mode='markers')],\n",
    "                              'layout':go.Layout(title='Scatterplot',hovermode='closest')})],\n",
    "            style={'width':'30%','display':'inline-block'}),\n",
    "    html.Div([html.H1(id='density',style={'paddingTop':25})],\n",
    "            style={'width':'30%','display':'inline-block','verticalAlign':'top'})    \n",
    "])\n",
    "\n",
    "\n",
    "@app.callback(Output('density','children'),\n",
    "             [Input('plot','selectedData')])#one of the key value pairs is 'points'\n",
    "def find_density(selectedData):\n",
    "    #calculate the desnsity\n",
    "    pts = len(selectedData['points'])#find how many points in the selected area\n",
    "    rng_or_lp = list(selectedData.keys())\n",
    "    rng_or_lp.remove('points')\n",
    "    max_x = max(selectedData[rng_or_lp[0]]['x'])\n",
    "    min_x = min(selectedData[rng_or_lp[0]]['x'])\n",
    "    max_y = max(selectedData[rng_or_lp[0]]['y'])\n",
    "    min_y = min(selectedData[rng_or_lp[0]]['y'])\n",
    "    area = (max_x-min_x)*(max_y-min_y)\n",
    "    d = pts/area\n",
    "    return 'Density = {:.2f}'.format(d)"
   ]
  },
  {
   "cell_type": "code",
   "execution_count": 7,
   "metadata": {},
   "outputs": [
    {
     "name": "stdout",
     "output_type": "stream",
     "text": [
      " * Serving Flask app \"__main__\" (lazy loading)\n",
      " * Environment: production\n",
      "   WARNING: This is a development server. Do not use it in a production deployment.\n",
      "   Use a production WSGI server instead.\n",
      " * Debug mode: off\n"
     ]
    },
    {
     "name": "stderr",
     "output_type": "stream",
     "text": [
      " * Running on http://127.0.0.1:8050/ (Press CTRL+C to quit)\n",
      "127.0.0.1 - - [02/Jan/2022 20:54:32] \"GET / HTTP/1.1\" 200 -\n",
      "127.0.0.1 - - [02/Jan/2022 20:54:32] \"GET /_dash-dependencies HTTP/1.1\" 200 -\n",
      "127.0.0.1 - - [02/Jan/2022 20:54:32] \"GET /_dash-layout HTTP/1.1\" 200 -\n"
     ]
    },
    {
     "name": "stdout",
     "output_type": "stream",
     "text": [
      "Exception on /_dash-update-component [POST]\n",
      "Traceback (most recent call last):\n",
      "  File \"/Users/Hunter/anaconda3/lib/python3.7/site-packages/flask/app.py\", line 2446, in wsgi_app\n",
      "    response = self.full_dispatch_request()\n",
      "  File \"/Users/Hunter/anaconda3/lib/python3.7/site-packages/flask/app.py\", line 1951, in full_dispatch_request\n",
      "    rv = self.handle_user_exception(e)\n",
      "  File \"/Users/Hunter/anaconda3/lib/python3.7/site-packages/flask/app.py\", line 1820, in handle_user_exception\n",
      "    reraise(exc_type, exc_value, tb)\n",
      "  File \"/Users/Hunter/anaconda3/lib/python3.7/site-packages/flask/_compat.py\", line 39, in reraise\n",
      "    raise value\n",
      "  File \"/Users/Hunter/anaconda3/lib/python3.7/site-packages/flask/app.py\", line 1949, in full_dispatch_request\n",
      "    rv = self.dispatch_request()\n",
      "  File \"/Users/Hunter/anaconda3/lib/python3.7/site-packages/flask/app.py\", line 1935, in dispatch_request\n",
      "    return self.view_functions[rule.endpoint](**req.view_args)\n",
      "  File \"/Users/Hunter/anaconda3/lib/python3.7/site-packages/dash/dash.py\", line 1073, in dispatch\n",
      "    response.set_data(self.callback_map[output]['callback'](*args))\n",
      "  File \"/Users/Hunter/anaconda3/lib/python3.7/site-packages/dash/dash.py\", line 969, in add_context\n",
      "    output_value = func(*args, **kwargs)\n",
      "  File \"<ipython-input-6-f83241bc955e>\", line 18, in find_density\n",
      "    pts = len(selectedData['points'])#find how many points in the selected area\n",
      "TypeError: 'NoneType' object is not subscriptable\n"
     ]
    },
    {
     "name": "stderr",
     "output_type": "stream",
     "text": [
      "127.0.0.1 - - [02/Jan/2022 20:54:32] \"POST /_dash-update-component HTTP/1.1\" 500 -\n",
      "127.0.0.1 - - [02/Jan/2022 20:54:48] \"POST /_dash-update-component HTTP/1.1\" 200 -\n"
     ]
    }
   ],
   "source": [
    "if __name__=='__main__':\n",
    "    app.run_server()"
   ]
  },
  {
   "cell_type": "code",
   "execution_count": null,
   "metadata": {},
   "outputs": [],
   "source": []
  }
 ],
 "metadata": {
  "kernelspec": {
   "display_name": "Python 3",
   "language": "python",
   "name": "python3"
  },
  "language_info": {
   "codemirror_mode": {
    "name": "ipython",
    "version": 3
   },
   "file_extension": ".py",
   "mimetype": "text/x-python",
   "name": "python",
   "nbconvert_exporter": "python",
   "pygments_lexer": "ipython3",
   "version": "3.7.3"
  }
 },
 "nbformat": 4,
 "nbformat_minor": 2
}
