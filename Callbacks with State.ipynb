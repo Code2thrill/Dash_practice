{
 "cells": [
  {
   "cell_type": "code",
   "execution_count": 1,
   "metadata": {},
   "outputs": [],
   "source": [
    "import pandas as pd\n",
    "import dash_core_components as dcc\n",
    "import dash_html_components as html\n",
    "from dash.dependencies import Input, Output, State\n",
    "import dash"
   ]
  },
  {
   "cell_type": "code",
   "execution_count": 2,
   "metadata": {},
   "outputs": [],
   "source": [
    "app = dash.Dash()"
   ]
  },
  {
   "cell_type": "code",
   "execution_count": 3,
   "metadata": {},
   "outputs": [
    {
     "name": "stdout",
     "output_type": "stream",
     "text": [
      " * Serving Flask app \"__main__\" (lazy loading)\n",
      " * Environment: production\n",
      "   WARNING: This is a development server. Do not use it in a production deployment.\n",
      "   Use a production WSGI server instead.\n",
      " * Debug mode: off\n"
     ]
    },
    {
     "name": "stderr",
     "output_type": "stream",
     "text": [
      " * Running on http://127.0.0.1:8050/ (Press CTRL+C to quit)\n",
      "127.0.0.1 - - [01/Jan/2022 16:23:35] \"GET / HTTP/1.1\" 200 -\n",
      "127.0.0.1 - - [01/Jan/2022 16:23:35] \"GET /_dash-dependencies HTTP/1.1\" 200 -\n",
      "127.0.0.1 - - [01/Jan/2022 16:23:35] \"GET /_dash-layout HTTP/1.1\" 200 -\n",
      "127.0.0.1 - - [01/Jan/2022 16:23:35] \"POST /_dash-update-component HTTP/1.1\" 200 -\n",
      "127.0.0.1 - - [01/Jan/2022 16:23:43] \"POST /_dash-update-component HTTP/1.1\" 200 -\n",
      "127.0.0.1 - - [01/Jan/2022 16:23:53] \"POST /_dash-update-component HTTP/1.1\" 200 -\n",
      "127.0.0.1 - - [01/Jan/2022 16:23:54] \"POST /_dash-update-component HTTP/1.1\" 200 -\n",
      "127.0.0.1 - - [01/Jan/2022 16:23:54] \"POST /_dash-update-component HTTP/1.1\" 200 -\n",
      "127.0.0.1 - - [01/Jan/2022 16:23:54] \"POST /_dash-update-component HTTP/1.1\" 200 -\n",
      "127.0.0.1 - - [01/Jan/2022 16:23:54] \"POST /_dash-update-component HTTP/1.1\" 200 -\n",
      "127.0.0.1 - - [01/Jan/2022 16:23:54] \"POST /_dash-update-component HTTP/1.1\" 200 -\n"
     ]
    }
   ],
   "source": [
    "app.layout = html.Div([\n",
    "    dcc.Input(id='number-in',value=1,style={'fontSize':24}),\n",
    "    html.Button(id='submit-button',\n",
    "               n_clicks=0,#count # of clicks and n_clicks available in all html components\n",
    "               children='Submit Here',\n",
    "               style={'fontSize':24}),\n",
    "    html.H1(id='number-out')\n",
    "])\n",
    "\n",
    "\n",
    "\n",
    "@app.callback(Output('number-out','children'),\n",
    "             [Input('submit-button','n_clicks')],\n",
    "             [State('number-in','value')])#state holds the value yout put in but it won't get output until you excute the Input by click the button\n",
    "def output(n_clicks,number):#input values includes every parameter available in Input and State\n",
    "    return '{} was typed in, and button was clicked {} times'.format(number, n_clicks)\n",
    "\n",
    "if __name__=='__main__':\n",
    "    app.run_server()"
   ]
  },
  {
   "cell_type": "code",
   "execution_count": null,
   "metadata": {},
   "outputs": [],
   "source": []
  }
 ],
 "metadata": {
  "kernelspec": {
   "display_name": "Python 3",
   "language": "python",
   "name": "python3"
  },
  "language_info": {
   "codemirror_mode": {
    "name": "ipython",
    "version": 3
   },
   "file_extension": ".py",
   "mimetype": "text/x-python",
   "name": "python",
   "nbconvert_exporter": "python",
   "pygments_lexer": "ipython3",
   "version": "3.7.3"
  }
 },
 "nbformat": 4,
 "nbformat_minor": 2
}
